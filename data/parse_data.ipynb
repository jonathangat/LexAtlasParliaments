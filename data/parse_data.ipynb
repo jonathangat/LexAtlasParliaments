{
 "cells": [
  {
   "cell_type": "markdown",
   "id": "0192d02c",
   "metadata": {},
   "source": [
    "# PArse Data - Federalism"
   ]
  },
  {
   "cell_type": "code",
   "execution_count": 1,
   "id": "565fbcbe",
   "metadata": {},
   "outputs": [],
   "source": [
    "# import libraries\n",
    "import pandas as pd"
   ]
  },
  {
   "cell_type": "code",
   "execution_count": 8,
   "id": "ab8a5e6c",
   "metadata": {},
   "outputs": [],
   "source": [
    "# read data\n",
    "#data = pd.read_excel('Parliaments_data_18sept2023.xlsx')\n",
    "data = pd.read_csv('Parliaments_data_18sept2023_csv.csv')"
   ]
  },
  {
   "cell_type": "code",
   "execution_count": 12,
   "id": "83d6d181",
   "metadata": {},
   "outputs": [],
   "source": [
    "data.fillna('').to_html('parliament_dataset.html', index=False)"
   ]
  }
 ],
 "metadata": {
  "kernelspec": {
   "display_name": "Python 3",
   "language": "python",
   "name": "python3"
  },
  "language_info": {
   "codemirror_mode": {
    "name": "ipython",
    "version": 3
   },
   "file_extension": ".py",
   "mimetype": "text/x-python",
   "name": "python",
   "nbconvert_exporter": "python",
   "pygments_lexer": "ipython3",
   "version": "3.7.10"
  }
 },
 "nbformat": 4,
 "nbformat_minor": 5
}
